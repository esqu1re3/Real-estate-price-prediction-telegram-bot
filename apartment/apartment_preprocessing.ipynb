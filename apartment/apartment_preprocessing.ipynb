{
 "cells": [
  {
   "cell_type": "markdown",
   "metadata": {},
   "source": [
    "Preprocessing"
   ]
  },
  {
   "cell_type": "code",
   "execution_count": 3634,
   "metadata": {},
   "outputs": [],
   "source": [
    "import pandas as pd"
   ]
  },
  {
   "cell_type": "code",
   "execution_count": 3635,
   "metadata": {},
   "outputs": [
    {
     "data": {
      "text/html": [
       "<div>\n",
       "<style scoped>\n",
       "    .dataframe tbody tr th:only-of-type {\n",
       "        vertical-align: middle;\n",
       "    }\n",
       "\n",
       "    .dataframe tbody tr th {\n",
       "        vertical-align: top;\n",
       "    }\n",
       "\n",
       "    .dataframe thead th {\n",
       "        text-align: right;\n",
       "    }\n",
       "</style>\n",
       "<table border=\"1\" class=\"dataframe\">\n",
       "  <thead>\n",
       "    <tr style=\"text-align: right;\">\n",
       "      <th></th>\n",
       "      <th>Количество комнат</th>\n",
       "      <th>Площадь (м²)</th>\n",
       "      <th>Этаж</th>\n",
       "      <th>Адрес</th>\n",
       "      <th>Цена ($)</th>\n",
       "      <th>Цена (сом)</th>\n",
       "    </tr>\n",
       "  </thead>\n",
       "  <tbody>\n",
       "    <tr>\n",
       "      <th>0</th>\n",
       "      <td>2</td>\n",
       "      <td>63.0</td>\n",
       "      <td>3.0</td>\n",
       "      <td>Бишкек, Махатма Ганди - БЧК, баялинова 180/1</td>\n",
       "      <td>75 000</td>\n",
       "      <td>6 508 500</td>\n",
       "    </tr>\n",
       "    <tr>\n",
       "      <th>1</th>\n",
       "      <td>2</td>\n",
       "      <td>55.0</td>\n",
       "      <td>3.0</td>\n",
       "      <td>Бишкек, Старый аэропорт, Ажыбек Баатыра/Джунус...</td>\n",
       "      <td>104 000</td>\n",
       "      <td>9 025 120</td>\n",
       "    </tr>\n",
       "    <tr>\n",
       "      <th>2</th>\n",
       "      <td>1</td>\n",
       "      <td>56.0</td>\n",
       "      <td>6.0</td>\n",
       "      <td>Бишкек, Магистраль,  ул.Советская / Магистраль</td>\n",
       "      <td>84 000</td>\n",
       "      <td>7 289 520</td>\n",
       "    </tr>\n",
       "    <tr>\n",
       "      <th>3</th>\n",
       "      <td>2</td>\n",
       "      <td>70.0</td>\n",
       "      <td>7.0</td>\n",
       "      <td>Бишкек, Магистраль, Куттубаева/Южная Магистраль</td>\n",
       "      <td>109 000</td>\n",
       "      <td>9 459 020</td>\n",
       "    </tr>\n",
       "    <tr>\n",
       "      <th>4</th>\n",
       "      <td>2</td>\n",
       "      <td>67.0</td>\n",
       "      <td>4.0</td>\n",
       "      <td>Бишкек, Магистраль, Ч. Айтматова/Масалиева</td>\n",
       "      <td>105 000</td>\n",
       "      <td>9 111 900</td>\n",
       "    </tr>\n",
       "  </tbody>\n",
       "</table>\n",
       "</div>"
      ],
      "text/plain": [
       "   Количество комнат  Площадь (м²)  Этаж  \\\n",
       "0                  2          63.0   3.0   \n",
       "1                  2          55.0   3.0   \n",
       "2                  1          56.0   6.0   \n",
       "3                  2          70.0   7.0   \n",
       "4                  2          67.0   4.0   \n",
       "\n",
       "                                               Адрес Цена ($) Цена (сом)  \n",
       "0       Бишкек, Махатма Ганди - БЧК, баялинова 180/1   75 000  6 508 500  \n",
       "1  Бишкек, Старый аэропорт, Ажыбек Баатыра/Джунус...  104 000  9 025 120  \n",
       "2     Бишкек, Магистраль,  ул.Советская / Магистраль   84 000  7 289 520  \n",
       "3    Бишкек, Магистраль, Куттубаева/Южная Магистраль  109 000  9 459 020  \n",
       "4         Бишкек, Магистраль, Ч. Айтматова/Масалиева  105 000  9 111 900  "
      ]
     },
     "execution_count": 3635,
     "metadata": {},
     "output_type": "execute_result"
    }
   ],
   "source": [
    "df = pd.read_csv('apartment_data.csv')\n",
    "df.head()"
   ]
  },
  {
   "cell_type": "code",
   "execution_count": 3636,
   "metadata": {},
   "outputs": [
    {
     "data": {
      "text/plain": [
       "Количество комнат    0\n",
       "Площадь (м²)         0\n",
       "Этаж                 0\n",
       "Адрес                0\n",
       "Цена ($)             0\n",
       "Цена (сом)           0\n",
       "dtype: int64"
      ]
     },
     "execution_count": 3636,
     "metadata": {},
     "output_type": "execute_result"
    }
   ],
   "source": [
    "df.dropna(inplace=True)\n",
    "df.isnull().sum()"
   ]
  },
  {
   "cell_type": "code",
   "execution_count": 3637,
   "metadata": {},
   "outputs": [
    {
     "data": {
      "text/plain": [
       "array([2, 1, 3, 5, 7, 6, 8], dtype=int64)"
      ]
     },
     "execution_count": 3637,
     "metadata": {},
     "output_type": "execute_result"
    }
   ],
   "source": [
    "df['Количество комнат'].unique()"
   ]
  },
  {
   "cell_type": "code",
   "execution_count": 3638,
   "metadata": {},
   "outputs": [
    {
     "data": {
      "text/plain": [
       "array([ 3.,  6.,  7.,  4.,  2.,  8.,  1.,  9., 12., 11., 15., 13., 10.,\n",
       "        5., 14., 16., 18., 17., 19., 21., 20.])"
      ]
     },
     "execution_count": 3638,
     "metadata": {},
     "output_type": "execute_result"
    }
   ],
   "source": [
    "df['Этаж'].unique()"
   ]
  },
  {
   "cell_type": "code",
   "execution_count": 3639,
   "metadata": {},
   "outputs": [
    {
     "data": {
      "text/html": [
       "<div>\n",
       "<style scoped>\n",
       "    .dataframe tbody tr th:only-of-type {\n",
       "        vertical-align: middle;\n",
       "    }\n",
       "\n",
       "    .dataframe tbody tr th {\n",
       "        vertical-align: top;\n",
       "    }\n",
       "\n",
       "    .dataframe thead th {\n",
       "        text-align: right;\n",
       "    }\n",
       "</style>\n",
       "<table border=\"1\" class=\"dataframe\">\n",
       "  <thead>\n",
       "    <tr style=\"text-align: right;\">\n",
       "      <th></th>\n",
       "      <th>Количество комнат</th>\n",
       "      <th>Площадь (м²)</th>\n",
       "      <th>Этаж</th>\n",
       "      <th>Адрес</th>\n",
       "      <th>Цена ($)</th>\n",
       "      <th>Цена (сом)</th>\n",
       "    </tr>\n",
       "  </thead>\n",
       "  <tbody>\n",
       "    <tr>\n",
       "      <th>0</th>\n",
       "      <td>2</td>\n",
       "      <td>63.0</td>\n",
       "      <td>3.0</td>\n",
       "      <td>Бишкек, Махатма Ганди - БЧК, баялинова 180/1</td>\n",
       "      <td>75 000</td>\n",
       "      <td>6 508 500</td>\n",
       "    </tr>\n",
       "    <tr>\n",
       "      <th>1</th>\n",
       "      <td>2</td>\n",
       "      <td>55.0</td>\n",
       "      <td>3.0</td>\n",
       "      <td>Бишкек, Старый аэропорт, Ажыбек Баатыра/Джунус...</td>\n",
       "      <td>104 000</td>\n",
       "      <td>9 025 120</td>\n",
       "    </tr>\n",
       "    <tr>\n",
       "      <th>2</th>\n",
       "      <td>1</td>\n",
       "      <td>56.0</td>\n",
       "      <td>6.0</td>\n",
       "      <td>Бишкек, Магистраль,  ул.Советская / Магистраль</td>\n",
       "      <td>84 000</td>\n",
       "      <td>7 289 520</td>\n",
       "    </tr>\n",
       "    <tr>\n",
       "      <th>3</th>\n",
       "      <td>2</td>\n",
       "      <td>70.0</td>\n",
       "      <td>7.0</td>\n",
       "      <td>Бишкек, Магистраль, Куттубаева/Южная Магистраль</td>\n",
       "      <td>109 000</td>\n",
       "      <td>9 459 020</td>\n",
       "    </tr>\n",
       "    <tr>\n",
       "      <th>4</th>\n",
       "      <td>2</td>\n",
       "      <td>67.0</td>\n",
       "      <td>4.0</td>\n",
       "      <td>Бишкек, Магистраль, Ч. Айтматова/Масалиева</td>\n",
       "      <td>105 000</td>\n",
       "      <td>9 111 900</td>\n",
       "    </tr>\n",
       "  </tbody>\n",
       "</table>\n",
       "</div>"
      ],
      "text/plain": [
       "   Количество комнат  Площадь (м²)  Этаж  \\\n",
       "0                  2          63.0   3.0   \n",
       "1                  2          55.0   3.0   \n",
       "2                  1          56.0   6.0   \n",
       "3                  2          70.0   7.0   \n",
       "4                  2          67.0   4.0   \n",
       "\n",
       "                                               Адрес Цена ($) Цена (сом)  \n",
       "0       Бишкек, Махатма Ганди - БЧК, баялинова 180/1   75 000  6 508 500  \n",
       "1  Бишкек, Старый аэропорт, Ажыбек Баатыра/Джунус...  104 000  9 025 120  \n",
       "2     Бишкек, Магистраль,  ул.Советская / Магистраль   84 000  7 289 520  \n",
       "3    Бишкек, Магистраль, Куттубаева/Южная Магистраль  109 000  9 459 020  \n",
       "4         Бишкек, Магистраль, Ч. Айтматова/Масалиева  105 000  9 111 900  "
      ]
     },
     "execution_count": 3639,
     "metadata": {},
     "output_type": "execute_result"
    }
   ],
   "source": [
    "df.head()"
   ]
  },
  {
   "cell_type": "code",
   "execution_count": 3640,
   "metadata": {},
   "outputs": [],
   "source": [
    "df['Площадь (м²)'] = pd.to_numeric(df['Площадь (м²)'])\n",
    "df['Цена ($)'] = pd.to_numeric(df['Цена ($)'].str.replace(' ', ''), errors='coerce')\n",
    "df['Цена (сом)'] = pd.to_numeric(df['Цена (сом)'].str.replace(' ', ''), errors='coerce')\n",
    "df['Этаж'] = df['Этаж'].astype(int)"
   ]
  },
  {
   "cell_type": "code",
   "execution_count": 3641,
   "metadata": {},
   "outputs": [
    {
     "data": {
      "text/html": [
       "<div>\n",
       "<style scoped>\n",
       "    .dataframe tbody tr th:only-of-type {\n",
       "        vertical-align: middle;\n",
       "    }\n",
       "\n",
       "    .dataframe tbody tr th {\n",
       "        vertical-align: top;\n",
       "    }\n",
       "\n",
       "    .dataframe thead th {\n",
       "        text-align: right;\n",
       "    }\n",
       "</style>\n",
       "<table border=\"1\" class=\"dataframe\">\n",
       "  <thead>\n",
       "    <tr style=\"text-align: right;\">\n",
       "      <th></th>\n",
       "      <th>Количество комнат</th>\n",
       "      <th>Площадь (м²)</th>\n",
       "      <th>Этаж</th>\n",
       "      <th>Адрес</th>\n",
       "      <th>Цена ($)</th>\n",
       "      <th>Цена (сом)</th>\n",
       "    </tr>\n",
       "  </thead>\n",
       "  <tbody>\n",
       "    <tr>\n",
       "      <th>0</th>\n",
       "      <td>2</td>\n",
       "      <td>63.0</td>\n",
       "      <td>3</td>\n",
       "      <td>Бишкек, Махатма Ганди - БЧК, баялинова 180/1</td>\n",
       "      <td>75000</td>\n",
       "      <td>6508500</td>\n",
       "    </tr>\n",
       "    <tr>\n",
       "      <th>1</th>\n",
       "      <td>2</td>\n",
       "      <td>55.0</td>\n",
       "      <td>3</td>\n",
       "      <td>Бишкек, Старый аэропорт, Ажыбек Баатыра/Джунус...</td>\n",
       "      <td>104000</td>\n",
       "      <td>9025120</td>\n",
       "    </tr>\n",
       "    <tr>\n",
       "      <th>2</th>\n",
       "      <td>1</td>\n",
       "      <td>56.0</td>\n",
       "      <td>6</td>\n",
       "      <td>Бишкек, Магистраль,  ул.Советская / Магистраль</td>\n",
       "      <td>84000</td>\n",
       "      <td>7289520</td>\n",
       "    </tr>\n",
       "    <tr>\n",
       "      <th>3</th>\n",
       "      <td>2</td>\n",
       "      <td>70.0</td>\n",
       "      <td>7</td>\n",
       "      <td>Бишкек, Магистраль, Куттубаева/Южная Магистраль</td>\n",
       "      <td>109000</td>\n",
       "      <td>9459020</td>\n",
       "    </tr>\n",
       "    <tr>\n",
       "      <th>4</th>\n",
       "      <td>2</td>\n",
       "      <td>67.0</td>\n",
       "      <td>4</td>\n",
       "      <td>Бишкек, Магистраль, Ч. Айтматова/Масалиева</td>\n",
       "      <td>105000</td>\n",
       "      <td>9111900</td>\n",
       "    </tr>\n",
       "    <tr>\n",
       "      <th>...</th>\n",
       "      <td>...</td>\n",
       "      <td>...</td>\n",
       "      <td>...</td>\n",
       "      <td>...</td>\n",
       "      <td>...</td>\n",
       "      <td>...</td>\n",
       "    </tr>\n",
       "    <tr>\n",
       "      <th>8985</th>\n",
       "      <td>2</td>\n",
       "      <td>54.0</td>\n",
       "      <td>11</td>\n",
       "      <td>Бишкек, Политех, Ажыбек баатыра 10</td>\n",
       "      <td>110000</td>\n",
       "      <td>9545800</td>\n",
       "    </tr>\n",
       "    <tr>\n",
       "      <th>8986</th>\n",
       "      <td>2</td>\n",
       "      <td>70.0</td>\n",
       "      <td>7</td>\n",
       "      <td>Бишкек, Арча-Бешик ж/м, Садырбаева/Абдрахманов...</td>\n",
       "      <td>105500</td>\n",
       "      <td>9145795</td>\n",
       "    </tr>\n",
       "    <tr>\n",
       "      <th>8987</th>\n",
       "      <td>2</td>\n",
       "      <td>83.6</td>\n",
       "      <td>1</td>\n",
       "      <td>Бишкек, 10 м-н, Малдыбаева 12/1</td>\n",
       "      <td>25500</td>\n",
       "      <td>2212890</td>\n",
       "    </tr>\n",
       "    <tr>\n",
       "      <th>8988</th>\n",
       "      <td>3</td>\n",
       "      <td>116.0</td>\n",
       "      <td>7</td>\n",
       "      <td>Бишкек, Мадина,  ул. 7 апреля</td>\n",
       "      <td>116000</td>\n",
       "      <td>10066480</td>\n",
       "    </tr>\n",
       "    <tr>\n",
       "      <th>8989</th>\n",
       "      <td>1</td>\n",
       "      <td>45.0</td>\n",
       "      <td>1</td>\n",
       "      <td>Бишкек, Кок-Жар ж/м, Ахунбаева 10/2/Молдокулова</td>\n",
       "      <td>50000</td>\n",
       "      <td>4339000</td>\n",
       "    </tr>\n",
       "  </tbody>\n",
       "</table>\n",
       "<p>8978 rows × 6 columns</p>\n",
       "</div>"
      ],
      "text/plain": [
       "      Количество комнат  Площадь (м²)  Этаж  \\\n",
       "0                     2          63.0     3   \n",
       "1                     2          55.0     3   \n",
       "2                     1          56.0     6   \n",
       "3                     2          70.0     7   \n",
       "4                     2          67.0     4   \n",
       "...                 ...           ...   ...   \n",
       "8985                  2          54.0    11   \n",
       "8986                  2          70.0     7   \n",
       "8987                  2          83.6     1   \n",
       "8988                  3         116.0     7   \n",
       "8989                  1          45.0     1   \n",
       "\n",
       "                                                  Адрес  Цена ($)  Цена (сом)  \n",
       "0          Бишкек, Махатма Ганди - БЧК, баялинова 180/1     75000     6508500  \n",
       "1     Бишкек, Старый аэропорт, Ажыбек Баатыра/Джунус...    104000     9025120  \n",
       "2        Бишкек, Магистраль,  ул.Советская / Магистраль     84000     7289520  \n",
       "3       Бишкек, Магистраль, Куттубаева/Южная Магистраль    109000     9459020  \n",
       "4            Бишкек, Магистраль, Ч. Айтматова/Масалиева    105000     9111900  \n",
       "...                                                 ...       ...         ...  \n",
       "8985                 Бишкек, Политех, Ажыбек баатыра 10    110000     9545800  \n",
       "8986  Бишкек, Арча-Бешик ж/м, Садырбаева/Абдрахманов...    105500     9145795  \n",
       "8987                    Бишкек, 10 м-н, Малдыбаева 12/1     25500     2212890  \n",
       "8988                      Бишкек, Мадина,  ул. 7 апреля    116000    10066480  \n",
       "8989    Бишкек, Кок-Жар ж/м, Ахунбаева 10/2/Молдокулова     50000     4339000  \n",
       "\n",
       "[8978 rows x 6 columns]"
      ]
     },
     "execution_count": 3641,
     "metadata": {},
     "output_type": "execute_result"
    }
   ],
   "source": [
    "df"
   ]
  },
  {
   "cell_type": "code",
   "execution_count": 3642,
   "metadata": {},
   "outputs": [
    {
     "name": "stdout",
     "output_type": "stream",
     "text": [
      "<class 'pandas.core.frame.DataFrame'>\n",
      "Index: 8978 entries, 0 to 8989\n",
      "Data columns (total 6 columns):\n",
      " #   Column             Non-Null Count  Dtype  \n",
      "---  ------             --------------  -----  \n",
      " 0   Количество комнат  8978 non-null   int64  \n",
      " 1   Площадь (м²)       8978 non-null   float64\n",
      " 2   Этаж               8978 non-null   int32  \n",
      " 3   Адрес              8978 non-null   object \n",
      " 4   Цена ($)           8978 non-null   int64  \n",
      " 5   Цена (сом)         8978 non-null   int64  \n",
      "dtypes: float64(1), int32(1), int64(3), object(1)\n",
      "memory usage: 455.9+ KB\n"
     ]
    }
   ],
   "source": [
    "df.info()"
   ]
  },
  {
   "cell_type": "code",
   "execution_count": 3643,
   "metadata": {},
   "outputs": [
    {
     "data": {
      "text/plain": [
       "array(['Бишкек, Махатма Ганди - БЧК, баялинова 180/1',\n",
       "       'Бишкек, Старый аэропорт, Ажыбек Баатыра/Джунусалиева',\n",
       "       'Бишкек, Магистраль,  ул.Советская / Магистраль', ...,\n",
       "       'Бишкек, Политех, Ажыбек баатыра 10',\n",
       "       'Бишкек, 10 м-н, Малдыбаева 12/1',\n",
       "       'Бишкек, Кок-Жар ж/м, Ахунбаева 10/2/Молдокулова'], dtype=object)"
      ]
     },
     "execution_count": 3643,
     "metadata": {},
     "output_type": "execute_result"
    }
   ],
   "source": [
    "df['Адрес'].unique()"
   ]
  },
  {
   "cell_type": "code",
   "execution_count": null,
   "metadata": {},
   "outputs": [],
   "source": [
    "df.to_csv('apartment_corrected_data.csv', index=False)"
   ]
  }
 ],
 "metadata": {
  "kernelspec": {
   "display_name": "Python 3",
   "language": "python",
   "name": "python3"
  },
  "language_info": {
   "codemirror_mode": {
    "name": "ipython",
    "version": 3
   },
   "file_extension": ".py",
   "mimetype": "text/x-python",
   "name": "python",
   "nbconvert_exporter": "python",
   "pygments_lexer": "ipython3",
   "version": "3.11.5"
  }
 },
 "nbformat": 4,
 "nbformat_minor": 2
}
