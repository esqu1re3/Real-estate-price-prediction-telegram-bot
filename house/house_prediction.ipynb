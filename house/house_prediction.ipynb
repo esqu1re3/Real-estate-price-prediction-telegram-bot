{
 "cells": [
  {
   "cell_type": "code",
   "execution_count": 35,
   "metadata": {},
   "outputs": [],
   "source": [
    "from catboost import CatBoostRegressor\n",
    "from sklearn.model_selection import train_test_split, ParameterGrid, KFold\n",
    "from sklearn.metrics import mean_absolute_error, r2_score\n",
    "import pandas as pd\n",
    "import numpy as np\n",
    "from tqdm.autonotebook import tqdm, trange "
   ]
  },
  {
   "cell_type": "code",
   "execution_count": 36,
   "metadata": {},
   "outputs": [
    {
     "name": "stdout",
     "output_type": "stream",
     "text": [
      "<class 'pandas.core.frame.DataFrame'>\n",
      "RangeIndex: 2254 entries, 0 to 2253\n",
      "Data columns (total 5 columns):\n",
      " #   Column             Non-Null Count  Dtype  \n",
      "---  ------             --------------  -----  \n",
      " 0   Количество комнат  2254 non-null   int64  \n",
      " 1   Площадь (м²)       2254 non-null   float64\n",
      " 2   Адрес              2254 non-null   object \n",
      " 3   Цена ($)           2254 non-null   int64  \n",
      " 4   Цена (сом)         2254 non-null   int64  \n",
      "dtypes: float64(1), int64(3), object(1)\n",
      "memory usage: 88.2+ KB\n"
     ]
    }
   ],
   "source": [
    "df = pd.read_csv(\"house_corrected_data.csv\")\n",
    "df.info()"
   ]
  },
  {
   "cell_type": "code",
   "execution_count": 37,
   "metadata": {},
   "outputs": [
    {
     "name": "stdout",
     "output_type": "stream",
     "text": [
      "Начало GridSearch:\n"
     ]
    },
    {
     "name": "stderr",
     "output_type": "stream",
     "text": [
      "Параметрические комбинации: 100%|██████████| 6/6 [00:19<00:00,  3.19s/it]\n"
     ]
    },
    {
     "name": "stdout",
     "output_type": "stream",
     "text": [
      "Лучшие параметры: {'depth': 8, 'iterations': 1300, 'learning_rate': 0.07}\n",
      "Лучший CV MAE: 105225.73118361922\n",
      "0:\tlearn: 608466.4445482\ttest: 205823.9604638\tbest: 205823.9604638 (0)\ttotal: 12.1ms\tremaining: 15.7s\n",
      "bestTest = 168243.8565\n",
      "bestIteration = 11\n",
      "Shrink model to first 12 iterations.\n",
      "Test MAE: 106921.88550430602\n",
      "Test R2: 0.38675678214734877\n",
      "Предсказанная цена дома: 333864.23974609375\n"
     ]
    }
   ],
   "source": [
    "features = [\"Количество комнат\", \"Площадь (м²)\"]\n",
    "target = \"Цена ($)\"  # Или \"Цена (сом)\", если требуется\n",
    "\n",
    "X = df[features]\n",
    "y = df[target]\n",
    "\n",
    "# Разбиваем данные на обучающую и тестовую выборки\n",
    "X_train, X_test, y_train, y_test = train_test_split(X, y, test_size=0.2, random_state=42)\n",
    "\n",
    "# Определяем сетку гиперпараметров для поиска\n",
    "param_grid = {\n",
    "    'iterations': [1300, 1500, 1700],\n",
    "    'learning_rate': [0.07, 0.08],\n",
    "    'depth': [8]\n",
    "}\n",
    "grid = list(ParameterGrid(param_grid))\n",
    "kf = KFold(n_splits=3, shuffle=True, random_state=42)\n",
    "\n",
    "best_score = float('inf')\n",
    "best_params = None\n",
    "\n",
    "print(\"Начало GridSearch:\")\n",
    "\n",
    "# Перебор всех комбинаций гиперпараметров с использованием tqdm для отображения прогресса\n",
    "for params in tqdm(grid, desc=\"Параметрические комбинации\", leave=True):\n",
    "    cv_scores = []\n",
    "    # 3-кратная кросс-валидация\n",
    "    for train_index, val_index in kf.split(X_train):\n",
    "        X_tr = X_train.iloc[train_index]\n",
    "        X_val = X_train.iloc[val_index]\n",
    "        y_tr = y_train.iloc[train_index]\n",
    "        y_val = y_train.iloc[val_index]\n",
    "        # Создаем модель с текущими параметрами\n",
    "        model = CatBoostRegressor(\n",
    "            allow_writing_files=False,\n",
    "            random_seed=42,\n",
    "            task_type='GPU',          # Используем GPU для ускорения обучения\n",
    "            eval_metric='RMSE',\n",
    "            early_stopping_rounds=50,\n",
    "            verbose=0,\n",
    "            **params\n",
    "        )\n",
    "        model.fit(X_tr, y_tr, eval_set=(X_val, y_val))\n",
    "        y_pred_val = model.predict(X_val)\n",
    "        score = mean_absolute_error(y_val, y_pred_val)\n",
    "        cv_scores.append(score)\n",
    "    mean_score = np.mean(cv_scores)\n",
    "    if mean_score < best_score:\n",
    "        best_score = mean_score\n",
    "        best_params = params\n",
    "\n",
    "print(\"Лучшие параметры:\", best_params)\n",
    "print(\"Лучший CV MAE:\", best_score)\n",
    "\n",
    "# Обучаем итоговую модель на полном обучающем наборе с найденными параметрами\n",
    "best_model = CatBoostRegressor(\n",
    "    allow_writing_files=False,\n",
    "    random_seed=42,\n",
    "    task_type='GPU',\n",
    "    eval_metric='RMSE',\n",
    "    early_stopping_rounds=50,\n",
    "    verbose=100,  # Вывод прогресса обучения итоговой модели\n",
    "    **best_params\n",
    ")\n",
    "best_model.fit(X_train, y_train, eval_set=(X_test, y_test))\n",
    "\n",
    "# Оценка модели на тестовой выборке\n",
    "y_pred = best_model.predict(X_test)\n",
    "mae = mean_absolute_error(y_test, y_pred)\n",
    "r2 = r2_score(y_test, y_pred)\n",
    "print(\"Test MAE:\", mae)\n",
    "print(\"Test R2:\", r2)\n",
    "\n",
    "# Функция для предсказания цены квартиры по вводимым параметрам (без столбца \"Адрес\")\n",
    "def predict(num_rooms, area):\n",
    "    input_data = pd.DataFrame({\n",
    "        \"Количество комнат\": [num_rooms],\n",
    "        \"Площадь (м²)\": [area],\n",
    "    })\n",
    "    return best_model.predict(input_data)[0]\n",
    "\n",
    "# Пример использования функции\n",
    "predicted_price = predict(6, 300)\n",
    "print(\"Предсказанная цена дома:\", predicted_price)"
   ]
  },
  {
   "cell_type": "code",
   "execution_count": 38,
   "metadata": {},
   "outputs": [],
   "source": [
    "# Сохраняем модель в файл\n",
    "best_model.save_model(\"house_catboost_model.cbm\")"
   ]
  }
 ],
 "metadata": {
  "kernelspec": {
   "display_name": "Python 3",
   "language": "python",
   "name": "python3"
  },
  "language_info": {
   "codemirror_mode": {
    "name": "ipython",
    "version": 3
   },
   "file_extension": ".py",
   "mimetype": "text/x-python",
   "name": "python",
   "nbconvert_exporter": "python",
   "pygments_lexer": "ipython3",
   "version": "3.11.5"
  }
 },
 "nbformat": 4,
 "nbformat_minor": 2
}
